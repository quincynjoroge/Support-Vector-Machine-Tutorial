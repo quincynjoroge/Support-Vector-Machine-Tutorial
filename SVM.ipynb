{
  "nbformat": 4,
  "nbformat_minor": 0,
  "metadata": {
    "colab": {
      "provenance": [],
      "authorship_tag": "ABX9TyOOsp9KFCsKMU1TLuFWPh+X"
    },
    "kernelspec": {
      "name": "python3",
      "display_name": "Python 3"
    },
    "language_info": {
      "name": "python"
    }
  },
  "cells": [
    {
      "cell_type": "markdown",
      "source": [
        "### Support Vector Machine Algorithm\n",
        "\n",
        "Implementing Kernel SVM with Scikit-Learn is similar to the simple SVM. In this section, we will use the famous iris dataset to predict the category to which a plant belongs based on four attributes: sepal-width, sepal-length, petal-width and petal-length.\n",
        "The dataset can be downloaded from the following link:\n",
        "https://archive.ics.uci.edu/ml/datasets/iris4\n",
        "The rest of the steps are typical machine learning steps and need very little explanation until we reach the part where we train our Kernel SVM.\n",
        "\n"
      ],
      "metadata": {
        "id": "jK3N7H29Pobl"
      }
    },
    {
      "cell_type": "code",
      "execution_count": 1,
      "metadata": {
        "id": "GV82cTKWNob-"
      },
      "outputs": [],
      "source": [
        "# Importing Libraries\n",
        "\n",
        "import numpy as np\n",
        "import matplotlib.pyplot as plt\n",
        "import pandas as pd"
      ]
    },
    {
      "cell_type": "code",
      "source": [
        "# Importing the Dataset\n",
        "url = \"https://archive.ics.uci.edu/ml/machine-learning-databases/iris/iris.data\""
      ],
      "metadata": {
        "id": "GE4UsHHxP7Jm"
      },
      "execution_count": 2,
      "outputs": []
    },
    {
      "cell_type": "code",
      "source": [
        "# Assign colum names to the dataset\n",
        "colnames = ['sepal-length', 'sepal-width', 'petal-length', 'petal-width', 'Class']"
      ],
      "metadata": {
        "id": "3zYn2-HFQN8a"
      },
      "execution_count": 3,
      "outputs": []
    },
    {
      "cell_type": "code",
      "source": [
        "# Read dataset to pandas dataframe\n",
        "irisdata = pd.read_csv(url, names=colnames)"
      ],
      "metadata": {
        "id": "tgefeMcKQQ-S"
      },
      "execution_count": 4,
      "outputs": []
    },
    {
      "cell_type": "code",
      "source": [
        "irisdata.head()"
      ],
      "metadata": {
        "colab": {
          "base_uri": "https://localhost:8080/",
          "height": 206
        },
        "id": "c2zY9fQSS0RQ",
        "outputId": "5290d044-67cd-4421-c54e-3e3fe427e3c8"
      },
      "execution_count": 5,
      "outputs": [
        {
          "output_type": "execute_result",
          "data": {
            "text/plain": [
              "   sepal-length  sepal-width  petal-length  petal-width        Class\n",
              "0           5.1          3.5           1.4          0.2  Iris-setosa\n",
              "1           4.9          3.0           1.4          0.2  Iris-setosa\n",
              "2           4.7          3.2           1.3          0.2  Iris-setosa\n",
              "3           4.6          3.1           1.5          0.2  Iris-setosa\n",
              "4           5.0          3.6           1.4          0.2  Iris-setosa"
            ],
            "text/html": [
              "\n",
              "  <div id=\"df-abe9861f-96eb-4964-93de-4a8d3653b306\">\n",
              "    <div class=\"colab-df-container\">\n",
              "      <div>\n",
              "<style scoped>\n",
              "    .dataframe tbody tr th:only-of-type {\n",
              "        vertical-align: middle;\n",
              "    }\n",
              "\n",
              "    .dataframe tbody tr th {\n",
              "        vertical-align: top;\n",
              "    }\n",
              "\n",
              "    .dataframe thead th {\n",
              "        text-align: right;\n",
              "    }\n",
              "</style>\n",
              "<table border=\"1\" class=\"dataframe\">\n",
              "  <thead>\n",
              "    <tr style=\"text-align: right;\">\n",
              "      <th></th>\n",
              "      <th>sepal-length</th>\n",
              "      <th>sepal-width</th>\n",
              "      <th>petal-length</th>\n",
              "      <th>petal-width</th>\n",
              "      <th>Class</th>\n",
              "    </tr>\n",
              "  </thead>\n",
              "  <tbody>\n",
              "    <tr>\n",
              "      <th>0</th>\n",
              "      <td>5.1</td>\n",
              "      <td>3.5</td>\n",
              "      <td>1.4</td>\n",
              "      <td>0.2</td>\n",
              "      <td>Iris-setosa</td>\n",
              "    </tr>\n",
              "    <tr>\n",
              "      <th>1</th>\n",
              "      <td>4.9</td>\n",
              "      <td>3.0</td>\n",
              "      <td>1.4</td>\n",
              "      <td>0.2</td>\n",
              "      <td>Iris-setosa</td>\n",
              "    </tr>\n",
              "    <tr>\n",
              "      <th>2</th>\n",
              "      <td>4.7</td>\n",
              "      <td>3.2</td>\n",
              "      <td>1.3</td>\n",
              "      <td>0.2</td>\n",
              "      <td>Iris-setosa</td>\n",
              "    </tr>\n",
              "    <tr>\n",
              "      <th>3</th>\n",
              "      <td>4.6</td>\n",
              "      <td>3.1</td>\n",
              "      <td>1.5</td>\n",
              "      <td>0.2</td>\n",
              "      <td>Iris-setosa</td>\n",
              "    </tr>\n",
              "    <tr>\n",
              "      <th>4</th>\n",
              "      <td>5.0</td>\n",
              "      <td>3.6</td>\n",
              "      <td>1.4</td>\n",
              "      <td>0.2</td>\n",
              "      <td>Iris-setosa</td>\n",
              "    </tr>\n",
              "  </tbody>\n",
              "</table>\n",
              "</div>\n",
              "      <button class=\"colab-df-convert\" onclick=\"convertToInteractive('df-abe9861f-96eb-4964-93de-4a8d3653b306')\"\n",
              "              title=\"Convert this dataframe to an interactive table.\"\n",
              "              style=\"display:none;\">\n",
              "        \n",
              "  <svg xmlns=\"http://www.w3.org/2000/svg\" height=\"24px\"viewBox=\"0 0 24 24\"\n",
              "       width=\"24px\">\n",
              "    <path d=\"M0 0h24v24H0V0z\" fill=\"none\"/>\n",
              "    <path d=\"M18.56 5.44l.94 2.06.94-2.06 2.06-.94-2.06-.94-.94-2.06-.94 2.06-2.06.94zm-11 1L8.5 8.5l.94-2.06 2.06-.94-2.06-.94L8.5 2.5l-.94 2.06-2.06.94zm10 10l.94 2.06.94-2.06 2.06-.94-2.06-.94-.94-2.06-.94 2.06-2.06.94z\"/><path d=\"M17.41 7.96l-1.37-1.37c-.4-.4-.92-.59-1.43-.59-.52 0-1.04.2-1.43.59L10.3 9.45l-7.72 7.72c-.78.78-.78 2.05 0 2.83L4 21.41c.39.39.9.59 1.41.59.51 0 1.02-.2 1.41-.59l7.78-7.78 2.81-2.81c.8-.78.8-2.07 0-2.86zM5.41 20L4 18.59l7.72-7.72 1.47 1.35L5.41 20z\"/>\n",
              "  </svg>\n",
              "      </button>\n",
              "      \n",
              "  <style>\n",
              "    .colab-df-container {\n",
              "      display:flex;\n",
              "      flex-wrap:wrap;\n",
              "      gap: 12px;\n",
              "    }\n",
              "\n",
              "    .colab-df-convert {\n",
              "      background-color: #E8F0FE;\n",
              "      border: none;\n",
              "      border-radius: 50%;\n",
              "      cursor: pointer;\n",
              "      display: none;\n",
              "      fill: #1967D2;\n",
              "      height: 32px;\n",
              "      padding: 0 0 0 0;\n",
              "      width: 32px;\n",
              "    }\n",
              "\n",
              "    .colab-df-convert:hover {\n",
              "      background-color: #E2EBFA;\n",
              "      box-shadow: 0px 1px 2px rgba(60, 64, 67, 0.3), 0px 1px 3px 1px rgba(60, 64, 67, 0.15);\n",
              "      fill: #174EA6;\n",
              "    }\n",
              "\n",
              "    [theme=dark] .colab-df-convert {\n",
              "      background-color: #3B4455;\n",
              "      fill: #D2E3FC;\n",
              "    }\n",
              "\n",
              "    [theme=dark] .colab-df-convert:hover {\n",
              "      background-color: #434B5C;\n",
              "      box-shadow: 0px 1px 3px 1px rgba(0, 0, 0, 0.15);\n",
              "      filter: drop-shadow(0px 1px 2px rgba(0, 0, 0, 0.3));\n",
              "      fill: #FFFFFF;\n",
              "    }\n",
              "  </style>\n",
              "\n",
              "      <script>\n",
              "        const buttonEl =\n",
              "          document.querySelector('#df-abe9861f-96eb-4964-93de-4a8d3653b306 button.colab-df-convert');\n",
              "        buttonEl.style.display =\n",
              "          google.colab.kernel.accessAllowed ? 'block' : 'none';\n",
              "\n",
              "        async function convertToInteractive(key) {\n",
              "          const element = document.querySelector('#df-abe9861f-96eb-4964-93de-4a8d3653b306');\n",
              "          const dataTable =\n",
              "            await google.colab.kernel.invokeFunction('convertToInteractive',\n",
              "                                                     [key], {});\n",
              "          if (!dataTable) return;\n",
              "\n",
              "          const docLinkHtml = 'Like what you see? Visit the ' +\n",
              "            '<a target=\"_blank\" href=https://colab.research.google.com/notebooks/data_table.ipynb>data table notebook</a>'\n",
              "            + ' to learn more about interactive tables.';\n",
              "          element.innerHTML = '';\n",
              "          dataTable['output_type'] = 'display_data';\n",
              "          await google.colab.output.renderOutput(dataTable, element);\n",
              "          const docLink = document.createElement('div');\n",
              "          docLink.innerHTML = docLinkHtml;\n",
              "          element.appendChild(docLink);\n",
              "        }\n",
              "      </script>\n",
              "    </div>\n",
              "  </div>\n",
              "  "
            ]
          },
          "metadata": {},
          "execution_count": 5
        }
      ]
    },
    {
      "cell_type": "code",
      "source": [
        "# Preprocessing\n",
        "X = irisdata.drop('Class', axis=1)\n",
        "y = irisdata['Class']"
      ],
      "metadata": {
        "id": "JrRu1fJzSbte"
      },
      "execution_count": 6,
      "outputs": []
    },
    {
      "cell_type": "code",
      "source": [
        "# Train Test Split\n",
        "from sklearn.model_selection import train_test_split\n",
        "X_train, X_test, y_train, y_test = train_test_split(X, y, test_size = 0.20)"
      ],
      "metadata": {
        "id": "BiifpSv8Tf85"
      },
      "execution_count": 7,
      "outputs": []
    },
    {
      "cell_type": "markdown",
      "source": [
        "##### **Training the Algorithm**\n",
        "\n",
        "To train the kernel SVM, we use the same SVC class of the Scikit-Learn's svm library. The difference lies in the value for the kernel parameter of the SVC class. In the case of the simple SVM we used \"linear\" as the value for the kernel parameter. However, for kernel SVM you can use Gaussian, polynomial, sigmoid, or computable kernel. We will implement polynomial, Gaussian, and sigmoid kernels to see which one works better for our problem."
      ],
      "metadata": {
        "id": "UewxdGiRTzqX"
      }
    },
    {
      "cell_type": "markdown",
      "source": [
        "###### Polynomial Kernel"
      ],
      "metadata": {
        "id": "DWYUO7APUWNa"
      }
    },
    {
      "cell_type": "code",
      "source": [
        "from sklearn.svm import SVC\n",
        "svclassifier = SVC(kernel='poly', degree=8)\n",
        "svclassifier.fit(X_train, y_train)"
      ],
      "metadata": {
        "id": "lgfQ0CEMTqbI",
        "outputId": "533e083a-ecb3-4de4-9b50-89ec8fb45eac",
        "colab": {
          "base_uri": "https://localhost:8080/"
        }
      },
      "execution_count": 8,
      "outputs": [
        {
          "output_type": "execute_result",
          "data": {
            "text/plain": [
              "SVC(degree=8, kernel='poly')"
            ]
          },
          "metadata": {},
          "execution_count": 8
        }
      ]
    },
    {
      "cell_type": "code",
      "source": [
        "# Making Predictions\n",
        "# Now once we have trained the algorithm, the next step is to make predictions on the test data.\n",
        "# Execute the following script to do so:\n",
        "y_pred = svclassifier.predict(X_test)"
      ],
      "metadata": {
        "id": "iqUPussPWEUM"
      },
      "execution_count": 9,
      "outputs": []
    },
    {
      "cell_type": "code",
      "source": [
        "# Evaluating the Algorithm\n",
        "# As usual, the final step of any machine learning algorithm is to make evaluations for polynomial kernel. Execute the following script:\n",
        "\n",
        "from sklearn.metrics import classification_report, confusion_matrix\n",
        "print(confusion_matrix(y_test, y_pred))\n",
        "print(classification_report(y_test, y_pred))\n"
      ],
      "metadata": {
        "id": "-9MVgbGfWgTZ",
        "outputId": "040ac289-8f17-45a1-cefd-1f705dd43db5",
        "colab": {
          "base_uri": "https://localhost:8080/"
        }
      },
      "execution_count": 10,
      "outputs": [
        {
          "output_type": "stream",
          "name": "stdout",
          "text": [
            "[[ 8  0  0]\n",
            " [ 0 11  1]\n",
            " [ 0  2  8]]\n",
            "                 precision    recall  f1-score   support\n",
            "\n",
            "    Iris-setosa       1.00      1.00      1.00         8\n",
            "Iris-versicolor       0.85      0.92      0.88        12\n",
            " Iris-virginica       0.89      0.80      0.84        10\n",
            "\n",
            "       accuracy                           0.90        30\n",
            "      macro avg       0.91      0.91      0.91        30\n",
            "   weighted avg       0.90      0.90      0.90        30\n",
            "\n"
          ]
        }
      ]
    },
    {
      "cell_type": "markdown",
      "source": [
        "###### Gaussian Kernel\n"
      ],
      "metadata": {
        "id": "lBCEayFeXELi"
      }
    },
    {
      "cell_type": "code",
      "source": [
        "from sklearn.svm import SVC\n",
        "svclassifier = SVC(kernel='rbf')\n",
        "svclassifier.fit(X_train, y_train)"
      ],
      "metadata": {
        "id": "x9LPmXgvXKzW",
        "outputId": "a15adcb1-85ff-4b42-9eff-89e1713e9d7b",
        "colab": {
          "base_uri": "https://localhost:8080/"
        }
      },
      "execution_count": 11,
      "outputs": [
        {
          "output_type": "execute_result",
          "data": {
            "text/plain": [
              "SVC()"
            ]
          },
          "metadata": {},
          "execution_count": 11
        }
      ]
    },
    {
      "cell_type": "code",
      "source": [
        "# Prediction and Evaluation\n",
        "y_pred = svclassifier.predict(X_test)\n",
        "from sklearn.metrics import classification_report, confusion_matrix\n",
        "print(confusion_matrix(y_test, y_pred))\n",
        "print(classification_report(y_test, y_pred))\n"
      ],
      "metadata": {
        "id": "jxGh4B5sXQY5",
        "outputId": "fc541e1d-2cd9-4728-a65f-638dd9a99943",
        "colab": {
          "base_uri": "https://localhost:8080/"
        }
      },
      "execution_count": 12,
      "outputs": [
        {
          "output_type": "stream",
          "name": "stdout",
          "text": [
            "[[ 8  0  0]\n",
            " [ 0 12  0]\n",
            " [ 0  0 10]]\n",
            "                 precision    recall  f1-score   support\n",
            "\n",
            "    Iris-setosa       1.00      1.00      1.00         8\n",
            "Iris-versicolor       1.00      1.00      1.00        12\n",
            " Iris-virginica       1.00      1.00      1.00        10\n",
            "\n",
            "       accuracy                           1.00        30\n",
            "      macro avg       1.00      1.00      1.00        30\n",
            "   weighted avg       1.00      1.00      1.00        30\n",
            "\n"
          ]
        }
      ]
    },
    {
      "cell_type": "markdown",
      "source": [
        "###### Sigmoid Kernel"
      ],
      "metadata": {
        "id": "-S0qeFbzeaRF"
      }
    },
    {
      "cell_type": "code",
      "source": [
        "# Finally, let's use a sigmoid kernel for implementing Kernel SVM. Take a look at the following script:\n",
        "from sklearn.svm import SVC\n",
        "svclassifier = SVC(kernel='sigmoid')\n",
        "svclassifier.fit(X_train, y_train)"
      ],
      "metadata": {
        "id": "CjS7zWusecAi",
        "outputId": "76779b1b-d97a-42ff-ad43-4d14f9e0fc6a",
        "colab": {
          "base_uri": "https://localhost:8080/"
        }
      },
      "execution_count": 13,
      "outputs": [
        {
          "output_type": "execute_result",
          "data": {
            "text/plain": [
              "SVC(kernel='sigmoid')"
            ]
          },
          "metadata": {},
          "execution_count": 13
        }
      ]
    },
    {
      "cell_type": "code",
      "source": [
        "# Prediction and Evaluation\n",
        "y_pred = svclassifier.predict(X_test)\n",
        "from sklearn.metrics import classification_report, confusion_matrix\n",
        "print(confusion_matrix(y_test, y_pred))\n",
        "print(classification_report(y_test, y_pred))"
      ],
      "metadata": {
        "id": "_WMT43Tjeg2c",
        "outputId": "7a166436-2388-459b-d648-8821d6d01068",
        "colab": {
          "base_uri": "https://localhost:8080/"
        }
      },
      "execution_count": 14,
      "outputs": [
        {
          "output_type": "stream",
          "name": "stdout",
          "text": [
            "[[ 8  0  0]\n",
            " [12  0  0]\n",
            " [10  0  0]]\n",
            "                 precision    recall  f1-score   support\n",
            "\n",
            "    Iris-setosa       0.27      1.00      0.42         8\n",
            "Iris-versicolor       0.00      0.00      0.00        12\n",
            " Iris-virginica       0.00      0.00      0.00        10\n",
            "\n",
            "       accuracy                           0.27        30\n",
            "      macro avg       0.09      0.33      0.14        30\n",
            "   weighted avg       0.07      0.27      0.11        30\n",
            "\n"
          ]
        },
        {
          "output_type": "stream",
          "name": "stderr",
          "text": [
            "/usr/local/lib/python3.7/dist-packages/sklearn/metrics/_classification.py:1318: UndefinedMetricWarning: Precision and F-score are ill-defined and being set to 0.0 in labels with no predicted samples. Use `zero_division` parameter to control this behavior.\n",
            "  _warn_prf(average, modifier, msg_start, len(result))\n",
            "/usr/local/lib/python3.7/dist-packages/sklearn/metrics/_classification.py:1318: UndefinedMetricWarning: Precision and F-score are ill-defined and being set to 0.0 in labels with no predicted samples. Use `zero_division` parameter to control this behavior.\n",
            "  _warn_prf(average, modifier, msg_start, len(result))\n",
            "/usr/local/lib/python3.7/dist-packages/sklearn/metrics/_classification.py:1318: UndefinedMetricWarning: Precision and F-score are ill-defined and being set to 0.0 in labels with no predicted samples. Use `zero_division` parameter to control this behavior.\n",
            "  _warn_prf(average, modifier, msg_start, len(result))\n"
          ]
        }
      ]
    },
    {
      "cell_type": "markdown",
      "source": [
        "**Comparison of Kernel Performance**\n",
        "\n",
        "If we compare the performance of the different types of kernels we can clearly see that the sigmoid kernel performs the worst. This is due to the reason that sigmoid function returns two values, 0 and 1, therefore it is more suitable for binary classification problems. However, in our case we had three output classes.\n",
        "\n",
        "Amongst the Gaussian kernel and polynomial kernel, we can see that Gaussian kernel achieved a perfect 100% prediction rate while polynomial kernel misclassified one instance. Therefore the Gaussian kernel performed slightly better. However, there is no hard and fast rule as to which kernel performs best in every scenario. It is all about testing all the kernels and selecting the one with the best results on your test dataset.\n"
      ],
      "metadata": {
        "id": "0owQw9NCfLl3"
      }
    },
    {
      "cell_type": "markdown",
      "source": [
        "###### Grid Search\n",
        "\n",
        "Now we will tune the parameters, check for the improvement\n",
        "Tuning parameters value for machine learning algorithms effectively improves the model performance.\n"
      ],
      "metadata": {
        "id": "yyw5ijyQfRh8"
      }
    },
    {
      "cell_type": "code",
      "source": [
        "# Import Gridsearch from Scikit Learn.\n",
        "from sklearn.model_selection import GridSearchCV"
      ],
      "metadata": {
        "id": "GuHLPO1zewsP"
      },
      "execution_count": 16,
      "outputs": []
    },
    {
      "cell_type": "code",
      "source": [
        "# Create a dictionary called param_grid and fill out some parameters for C and Gamma\n",
        "param_grid = {'C':[0.1,1,10,100], 'gamma':[1,0.1,0.01,0.001]}"
      ],
      "metadata": {
        "id": "sS0oMNqOfgfo"
      },
      "execution_count": 17,
      "outputs": []
    },
    {
      "cell_type": "code",
      "source": [
        "# Create a GridSearchCV object and fit it to the training data\n",
        "# Grid search is a model hyperparameter optimization technique.\n",
        "grid = GridSearchCV(SVC(), param_grid, refit = True, verbose=3)\n",
        "grid.fit(X_train, y_train)"
      ],
      "metadata": {
        "id": "ftKcZ5B1flu0",
        "outputId": "b0a0d752-0942-453f-aef5-8fc150de944e",
        "colab": {
          "base_uri": "https://localhost:8080/"
        }
      },
      "execution_count": 18,
      "outputs": [
        {
          "output_type": "stream",
          "name": "stdout",
          "text": [
            "Fitting 5 folds for each of 16 candidates, totalling 80 fits\n",
            "[CV 1/5] END ....................C=0.1, gamma=1;, score=1.000 total time=   0.0s\n",
            "[CV 2/5] END ....................C=0.1, gamma=1;, score=0.792 total time=   0.0s\n",
            "[CV 3/5] END ....................C=0.1, gamma=1;, score=1.000 total time=   0.0s\n",
            "[CV 4/5] END ....................C=0.1, gamma=1;, score=0.958 total time=   0.0s\n",
            "[CV 5/5] END ....................C=0.1, gamma=1;, score=0.958 total time=   0.0s\n",
            "[CV 1/5] END ..................C=0.1, gamma=0.1;, score=0.875 total time=   0.0s\n",
            "[CV 2/5] END ..................C=0.1, gamma=0.1;, score=0.792 total time=   0.0s\n",
            "[CV 3/5] END ..................C=0.1, gamma=0.1;, score=0.958 total time=   0.0s\n",
            "[CV 4/5] END ..................C=0.1, gamma=0.1;, score=0.917 total time=   0.0s\n",
            "[CV 5/5] END ..................C=0.1, gamma=0.1;, score=0.958 total time=   0.0s\n",
            "[CV 1/5] END .................C=0.1, gamma=0.01;, score=0.667 total time=   0.0s\n",
            "[CV 2/5] END .................C=0.1, gamma=0.01;, score=0.667 total time=   0.0s\n",
            "[CV 3/5] END .................C=0.1, gamma=0.01;, score=0.667 total time=   0.0s\n",
            "[CV 4/5] END .................C=0.1, gamma=0.01;, score=0.708 total time=   0.0s\n",
            "[CV 5/5] END .................C=0.1, gamma=0.01;, score=0.667 total time=   0.0s\n",
            "[CV 1/5] END ................C=0.1, gamma=0.001;, score=0.333 total time=   0.0s\n",
            "[CV 2/5] END ................C=0.1, gamma=0.001;, score=0.333 total time=   0.0s\n",
            "[CV 3/5] END ................C=0.1, gamma=0.001;, score=0.333 total time=   0.0s\n",
            "[CV 4/5] END ................C=0.1, gamma=0.001;, score=0.375 total time=   0.0s\n",
            "[CV 5/5] END ................C=0.1, gamma=0.001;, score=0.375 total time=   0.0s\n",
            "[CV 1/5] END ......................C=1, gamma=1;, score=0.958 total time=   0.0s\n",
            "[CV 2/5] END ......................C=1, gamma=1;, score=0.833 total time=   0.0s\n",
            "[CV 3/5] END ......................C=1, gamma=1;, score=1.000 total time=   0.0s\n",
            "[CV 4/5] END ......................C=1, gamma=1;, score=0.958 total time=   0.0s\n",
            "[CV 5/5] END ......................C=1, gamma=1;, score=0.958 total time=   0.0s\n",
            "[CV 1/5] END ....................C=1, gamma=0.1;, score=1.000 total time=   0.0s\n",
            "[CV 2/5] END ....................C=1, gamma=0.1;, score=0.833 total time=   0.0s\n",
            "[CV 3/5] END ....................C=1, gamma=0.1;, score=1.000 total time=   0.0s\n",
            "[CV 4/5] END ....................C=1, gamma=0.1;, score=0.958 total time=   0.0s\n",
            "[CV 5/5] END ....................C=1, gamma=0.1;, score=0.958 total time=   0.0s\n",
            "[CV 1/5] END ...................C=1, gamma=0.01;, score=0.958 total time=   0.0s\n",
            "[CV 2/5] END ...................C=1, gamma=0.01;, score=0.792 total time=   0.0s\n",
            "[CV 3/5] END ...................C=1, gamma=0.01;, score=0.958 total time=   0.0s\n",
            "[CV 4/5] END ...................C=1, gamma=0.01;, score=0.917 total time=   0.0s\n",
            "[CV 5/5] END ...................C=1, gamma=0.01;, score=0.958 total time=   0.0s\n",
            "[CV 1/5] END ..................C=1, gamma=0.001;, score=0.667 total time=   0.0s\n",
            "[CV 2/5] END ..................C=1, gamma=0.001;, score=0.667 total time=   0.0s\n",
            "[CV 3/5] END ..................C=1, gamma=0.001;, score=0.667 total time=   0.0s\n",
            "[CV 4/5] END ..................C=1, gamma=0.001;, score=0.708 total time=   0.0s\n",
            "[CV 5/5] END ..................C=1, gamma=0.001;, score=0.708 total time=   0.0s\n",
            "[CV 1/5] END .....................C=10, gamma=1;, score=0.958 total time=   0.0s\n",
            "[CV 2/5] END .....................C=10, gamma=1;, score=0.917 total time=   0.0s\n",
            "[CV 3/5] END .....................C=10, gamma=1;, score=1.000 total time=   0.0s\n",
            "[CV 4/5] END .....................C=10, gamma=1;, score=0.917 total time=   0.0s\n",
            "[CV 5/5] END .....................C=10, gamma=1;, score=0.917 total time=   0.0s\n",
            "[CV 1/5] END ...................C=10, gamma=0.1;, score=0.958 total time=   0.0s\n",
            "[CV 2/5] END ...................C=10, gamma=0.1;, score=0.875 total time=   0.0s\n",
            "[CV 3/5] END ...................C=10, gamma=0.1;, score=1.000 total time=   0.0s\n",
            "[CV 4/5] END ...................C=10, gamma=0.1;, score=1.000 total time=   0.0s\n",
            "[CV 5/5] END ...................C=10, gamma=0.1;, score=1.000 total time=   0.0s\n",
            "[CV 1/5] END ..................C=10, gamma=0.01;, score=0.958 total time=   0.0s\n",
            "[CV 2/5] END ..................C=10, gamma=0.01;, score=0.833 total time=   0.0s\n",
            "[CV 3/5] END ..................C=10, gamma=0.01;, score=1.000 total time=   0.0s\n",
            "[CV 4/5] END ..................C=10, gamma=0.01;, score=0.958 total time=   0.0s\n",
            "[CV 5/5] END ..................C=10, gamma=0.01;, score=0.958 total time=   0.0s\n",
            "[CV 1/5] END .................C=10, gamma=0.001;, score=0.958 total time=   0.0s\n",
            "[CV 2/5] END .................C=10, gamma=0.001;, score=0.833 total time=   0.0s\n",
            "[CV 3/5] END .................C=10, gamma=0.001;, score=0.958 total time=   0.0s\n",
            "[CV 4/5] END .................C=10, gamma=0.001;, score=0.917 total time=   0.0s\n",
            "[CV 5/5] END .................C=10, gamma=0.001;, score=0.958 total time=   0.0s\n",
            "[CV 1/5] END ....................C=100, gamma=1;, score=0.958 total time=   0.0s\n",
            "[CV 2/5] END ....................C=100, gamma=1;, score=0.875 total time=   0.0s\n",
            "[CV 3/5] END ....................C=100, gamma=1;, score=1.000 total time=   0.0s\n",
            "[CV 4/5] END ....................C=100, gamma=1;, score=0.958 total time=   0.0s\n",
            "[CV 5/5] END ....................C=100, gamma=1;, score=0.917 total time=   0.0s\n",
            "[CV 1/5] END ..................C=100, gamma=0.1;, score=0.958 total time=   0.0s\n",
            "[CV 2/5] END ..................C=100, gamma=0.1;, score=0.833 total time=   0.0s\n",
            "[CV 3/5] END ..................C=100, gamma=0.1;, score=1.000 total time=   0.0s\n",
            "[CV 4/5] END ..................C=100, gamma=0.1;, score=0.958 total time=   0.0s\n",
            "[CV 5/5] END ..................C=100, gamma=0.1;, score=1.000 total time=   0.0s\n",
            "[CV 1/5] END .................C=100, gamma=0.01;, score=0.917 total time=   0.0s\n",
            "[CV 2/5] END .................C=100, gamma=0.01;, score=0.917 total time=   0.0s\n",
            "[CV 3/5] END .................C=100, gamma=0.01;, score=1.000 total time=   0.0s\n",
            "[CV 4/5] END .................C=100, gamma=0.01;, score=1.000 total time=   0.0s\n",
            "[CV 5/5] END .................C=100, gamma=0.01;, score=1.000 total time=   0.0s\n",
            "[CV 1/5] END ................C=100, gamma=0.001;, score=0.958 total time=   0.0s\n",
            "[CV 2/5] END ................C=100, gamma=0.001;, score=0.875 total time=   0.0s\n",
            "[CV 3/5] END ................C=100, gamma=0.001;, score=1.000 total time=   0.0s\n",
            "[CV 4/5] END ................C=100, gamma=0.001;, score=0.958 total time=   0.0s\n",
            "[CV 5/5] END ................C=100, gamma=0.001;, score=0.958 total time=   0.0s\n"
          ]
        },
        {
          "output_type": "execute_result",
          "data": {
            "text/plain": [
              "GridSearchCV(estimator=SVC(),\n",
              "             param_grid={'C': [0.1, 1, 10, 100],\n",
              "                         'gamma': [1, 0.1, 0.01, 0.001]},\n",
              "             verbose=3)"
            ]
          },
          "metadata": {},
          "execution_count": 18
        }
      ]
    },
    {
      "cell_type": "code",
      "source": [
        "print(grid.best_estimator_)"
      ],
      "metadata": {
        "id": "EhBLxXT5g5Du",
        "outputId": "6e9ced06-abba-49c5-b08a-4402c4060da7",
        "colab": {
          "base_uri": "https://localhost:8080/"
        }
      },
      "execution_count": 23,
      "outputs": [
        {
          "output_type": "stream",
          "name": "stdout",
          "text": [
            "SVC(C=10, gamma=0.1)\n"
          ]
        }
      ]
    },
    {
      "cell_type": "code",
      "source": [
        "# Let us predict using the Grid model\n",
        "pred_grid = grid.predict(X_test)"
      ],
      "metadata": {
        "id": "oTa9Jy3VfttJ"
      },
      "execution_count": 19,
      "outputs": []
    },
    {
      "cell_type": "code",
      "source": [
        "# Let us compute the confusion matrix\n",
        "print(confusion_matrix(y_test, pred_grid))"
      ],
      "metadata": {
        "id": "0x3RDqavf0RI",
        "outputId": "1f0e267e-b4e9-4c0a-d144-527c2b2b82e3",
        "colab": {
          "base_uri": "https://localhost:8080/"
        }
      },
      "execution_count": 20,
      "outputs": [
        {
          "output_type": "stream",
          "name": "stdout",
          "text": [
            "[[ 8  0  0]\n",
            " [ 0 12  0]\n",
            " [ 0  1  9]]\n"
          ]
        }
      ]
    },
    {
      "cell_type": "code",
      "source": [
        "# Let us print the report also\n",
        "print(classification_report(y_test, pred_grid))"
      ],
      "metadata": {
        "id": "1juF3Si9f5FF",
        "outputId": "58f2c388-8185-4d0f-b165-74a333438a9c",
        "colab": {
          "base_uri": "https://localhost:8080/"
        }
      },
      "execution_count": 21,
      "outputs": [
        {
          "output_type": "stream",
          "name": "stdout",
          "text": [
            "                 precision    recall  f1-score   support\n",
            "\n",
            "    Iris-setosa       1.00      1.00      1.00         8\n",
            "Iris-versicolor       0.92      1.00      0.96        12\n",
            " Iris-virginica       1.00      0.90      0.95        10\n",
            "\n",
            "       accuracy                           0.97        30\n",
            "      macro avg       0.97      0.97      0.97        30\n",
            "   weighted avg       0.97      0.97      0.97        30\n",
            "\n"
          ]
        }
      ]
    }
  ]
}